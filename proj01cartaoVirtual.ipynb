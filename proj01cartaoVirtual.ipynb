{
  "cells": [
    {
      "metadata": {},
      "cell_type": "markdown",
      "source": "<h2>Etapa 1: Modelagem do Problema</h2>\n&nbsp;\n<p>Ao longo desta semana, durante a etapa de modelagem de problemas, observamos algumas situações que afetam negativamente o dia-a-dia de de cada um e que precisam ser solucionadas com urgência, dos problemas que ponderamos, entendemos que a problemática do lixo proveniente de material de publicidade impressa, despejado todos os dias nas ruas é algo impactante em nosso cotidiano e podemos pensar em como solucionar isto de forma algorítmica.</p>\n\n\n\n<h3><span style=\"line-height: 30px;\">Empresas e pessoas jurídicas sempre usaram e ainda usam marketing impresso por meio de: panfletos, cartões, placas, banners e etc. Estas formas de divulgação sempre causaram problemas com a limpeza da cidade.</span></h3>\n\n&nbsp;\n\n\n<img src=\"download.png\" alt=\"Poluição nas ruas\">\n\n&nbsp;\n\n<p>A cada eleição, por exemplo, milhares de impressos são jogados nas ruas, tanto pelos políticos e seus aliados quanto pela população que o recebe e o descarta ali mesmo nas ruas.\n    O impacto aparenta ser pequeno porém ocorre com grande frequência e em larga escala a cada dia em nossas ruas. Os orgãos públicos tentam manter a cidade limpa, algumas pessoas até se sensibilizam com o problema e também fazem sua parte jogando esses materiais em locais adequados ou até o guardando para dispensar em casa, mas esses esforços não têm sido eficazes.</p>\n    \n    \n\n&nbsp;\n\n\n\n<p><i><strong>Vivemos em uma era onde a tecnologia cresce espantosamente e precisamos usá-la a nosso favor para mudar essa problemática mesmo nas situações mais simples de nosso cotidiano.</strong></i></p>\n\n"
    },
    {
      "metadata": {},
      "cell_type": "markdown",
      "source": "&nbsp;\n<h2>Etapa 2: Definição do Escopo</h2>\n&nbsp;\n\n<p>Entendemos que existe uma diversidade de causas e causadores que geram o excesso de lixo oriundo de publicidade, isso já se tornou algo comum, e apesar de sabermos que a população em geral tem conciência dos prejuízos para o meio urbano, ainda persiste o hábito de permanecer descartando o material que é distribuído em local impróprio, geralmente nas ruas.</p>\n&nbsp;\n&nbsp;\n"
    },
    {
      "metadata": {},
      "cell_type": "markdown",
      "source": "&nbsp;\n<h2>Etapa 3: Solução e metodologia</h2>\n&nbsp;\n\n<p>Chegamos a conclusão de que o principal causador de todo o problema são os materiais publicitários, que ainda não físicos e potenciais poluentes. Uma possível solução para resolver para resolver o transtorno gerado seria transformar a publicidade impressa em publicidade digital por meio de cartões de visita, portfolios e propagandas completamente digitais.</p>\n&nbsp;\n<p>O materiais informativos em questão são compostos por dados que, reunidos no contexto de publicidade, são considerados informações produzidas com o objetivo de atrair o leitor para adquirir determinado produto ou serviço. Para que ocorra a conversão do conteúdo impresso para o meio digital esses dados devem ser inseridos ao sistema pelo usuário através de um formulário.</p>\n&nbsp;\n<!--A informação adicionada será armazenada à base de dados-->\n    \n    \n"
    },
    {
      "metadata": {},
      "cell_type": "markdown",
      "source": "<p>Telas de menu para execução do código</p>"
    },
    {
      "metadata": {
        "trusted": true
      },
      "cell_type": "code",
      "source": "#encoding: utf-8\n\nimport csv\nfrom usuarios import Pessoa\n\ndef msg(num):\n    msgs = {1: '''\n        PROJETO CARTÕES DE VISITA VIRTUAIS\n\n    1. Cadastro de um novo cartão de visita.\n    2. Editar cartão de visita existente\n    3. Visualizar cartão de visita existente.\n    4. Visualizar todos os cartões de visita.\n    5. Sair.\n\n    Digite a opção: >> ''',\n    2: '''\n    Digite o \"NÚMERO\" do campo que deseja modificar:\n\n    0. Ver dados atuais\n    1. Nome\n    2. eMail\n    3. Telefone\n    4. Serviço\n    5. Senha\n    6. Refazer cartão\n    7. Cancelar\n\n    Digite sua opção: >> ''',\n        3: '''\n    Digite o número da opção que deseja :\n\n    1. Visualizar cartão de visita por nome.\n    2. Visualizar cartão de visita por eMail.\n    3. Visualizar cartão de visita por telefone.    \n    4. Visualizar cartão de visita por serviço.\n    5. Visualizar cartão de visita por senha.\n    6. Voltar ao Menu Principal.\n\n    Digite sua opção: >> ''',\n        }\n\n    return msgs[num]",
      "execution_count": 5,
      "outputs": []
    },
    {
      "metadata": {},
      "cell_type": "markdown",
      "source": "<p>Função responsável por realizar o cadastro ou recadastro de um usuário</p>"
    },
    {
      "metadata": {
        "trusted": true
      },
      "cell_type": "code",
      "source": "def cadastrar(ID = False):\n    nome = input('\\n\\tNome: ')\n    if not nome:\n        print(\"\\n\\tVoltando ao menu anterior\")\n        menu()\n    cadastro = Pessoa(nome)\t\n    cadastro.email = input('\\temail: ')\n    cadastro.telefone = input('\\tTelefone: ')\n    cadastro.servico = input('\\tServiço: ')\n    if not ID:\n        cadastro._Pessoa__senha = input('\\tID: ')\n    else:\n        cadastro._Pessoa__senha = ID\n        #criar teste que invalide senha ja existente\n\n    return cadastro",
      "execution_count": 6,
      "outputs": []
    },
    {
      "metadata": {},
      "cell_type": "markdown",
      "source": "<p>Busca os dados do arquivo csv para o programa</p>"
    },
    {
      "metadata": {
        "trusted": true
      },
      "cell_type": "code",
      "source": "def load_data(caminho, mode = \"r\"):\n    with open(caminho, mode) as file:\n        ler = csv.reader(file)\n        pos = 0\n        output = []\n        for row in ler:\n            rows = {}\n            if not pos:\n                head = row\n                pos += 1\n            elif pos >= 1:\n                x = 0\n                for h in head:\n                    rows[h] = row[x]\n                    x += 1\n            if rows:\n                output.append(rows)\n    return output",
      "execution_count": 7,
      "outputs": []
    },
    {
      "metadata": {},
      "cell_type": "markdown",
      "source": "<p>Salva os dados no arquivo csv</p>"
    },
    {
      "metadata": {
        "trusted": true
      },
      "cell_type": "code",
      "source": "def save_data(arquivo, local, colunas):\n    with open(local, \"w+\") as file:\n        record = csv.DictWriter(file, fieldnames=colunas)\n        record.writeheader()\n        for x in arquivo:\n            record.writerow(x)\n    print(\"\\n\\tSalvo\")",
      "execution_count": 8,
      "outputs": []
    },
    {
      "metadata": {},
      "cell_type": "markdown",
      "source": "<p>Função responsável por exibir o menu principal do programa</p>"
    },
    {
      "metadata": {
        "trusted": true
      },
      "cell_type": "code",
      "source": "def menu():\n    flag = True\n    usuarios = load_data(\"teste2.csv\", \"r\")\n\n    while flag:\n        opcao = input(msg(1))\n        if opcao == '1':\n            usuario = cadastrar()._Pessoa__atributos()\n            usuarios.append(usuario)\n            head = list(usuarios[0].keys())\n            save_data(usuarios, \"teste2.csv\", head)\n        elif opcao == '2':\n            editar(usuarios, \"teste2.csv\")\n        elif opcao == '3':\n            consultar(usuarios)\n        elif opcao == '4':\n            for usuario in usuarios:\n                print()            \n                for x, y in usuario.items():\n                    if x != \"Senha\":\n                        print(f\"\\t{x}: {y}\")   \n        elif opcao == '5':\n            print(\"\\n\\tPrograma encerrado com sucesso!!\")\n            flag = False\n        else:\n            print(\"\\n\\tOpcao invalida, tente novamente: \")\n            menu()\n        if flag:\n            pausa = input(\"\\n\\tAperte ENTER para continuar >>\")",
      "execution_count": 9,
      "outputs": []
    },
    {
      "metadata": {},
      "cell_type": "markdown",
      "source": "<p>Função responsável pela consulta do usuário</p>"
    },
    {
      "metadata": {
        "trusted": true
      },
      "cell_type": "code",
      "source": "def consultar(cadastro):\n    opcao = input(msg(3))\n    head = list(cadastro[0].keys())[:-1]\n    found = False\n    filtro = {\"1\": \"Nome\", \"2\": \"Email\", \"3\": \"Telefone\", \"4\" : \"Servico\", \"5\": \"Senha\"}\n    if opcao == \"6\":\n        menu()\n    elif opcao in \"12345\":\n        ver = input('\\n\\tDigite sua busca: ')\n        print()\n        for x in range(len(cadastro)):\n            if ver in cadastro[x][filtro[opcao]]:\n                for y in head:\n                    found = True\n                    print(f'\\t{y}: {cadastro[x][y]}')\n        if not found:\n            print(\"\\tNão encontrada nenhuma entrada correspondente!\")\t\n    else:\n        print(\"\\n\\tDigite opção válida: \")\n        consultar(cadastro)",
      "execution_count": 10,
      "outputs": []
    },
    {
      "metadata": {},
      "cell_type": "markdown",
      "source": "<p>Função responsável pela edição de um determinado campo do usuário</p>"
    },
    {
      "metadata": {
        "trusted": true
      },
      "cell_type": "code",
      "source": "def editar(cadastro, tabela):\n    head = list(cadastro[0].keys())\n    ID = input(\"\\n\\tDigite a ID do cadastro que deseja editar: >> \")\n    found = False\n    for x in range(len(cadastro)):\n        if ID in cadastro[x]['Senha']:\n            found = True\n            objeto = editor(cadastro[x])\n            opcao = input(msg(2))\n            if opcao == \"0\":\n                print()\n                for w, z in objeto._atributos().items():\n                    print(f\"\\t{w} : {z}\")\n                opcao = input(\"\\n\\tAguardando operação: >> \")\n            if opcao == \"1\":\n                objeto.nome = input(\"\\tDigite novo nome: >> \")\n            elif opcao == \"2\":\n                objeto.email = input(\"\\tDigite nova email: >> \")\n            elif opcao == \"3\":\n                objeto.telefone = input(\"\\tDigite novo telefone: >> \")\n            elif opcao == \"4\":\n                objeto.servico = input(\"\\tDigite novo serviço: >> \")\n            elif opcao == \"5\":\n                objeto._Pessoa__senha = input(\"\\tDigite nova senha: >> \")\n            elif opcao == \"6\":\n                objeto = cadastrar(ID)\n            elif opcao == \"7\":\n                print(\"\\tCancelado!\\n\\tVoltando ao Menu Principal...\")\n                menu()\n            else:\n                print(\"\\tOpção invalida, voltando ao menu principal!\\n\")\n\n            cadastro[x] = objeto._atributos()\n            save_data(cadastro, tabela, head)\n    if not found:\n        print(\"\\tNão encontrada nenhuma entrada correspondente!\")",
      "execution_count": 11,
      "outputs": []
    },
    {
      "metadata": {},
      "cell_type": "markdown",
      "source": "<p>Transforma o dicionário em um objeto</p>"
    },
    {
      "metadata": {
        "trusted": true
      },
      "cell_type": "code",
      "source": "def editor(item):\n    objeto = Pessoa(item['Nome'])\n    objeto._email(item[\"Email\"])\n    objeto._telefone(item[\"Telefone\"])\n    objeto._servico(item[\"Servico\"])    \n    objeto._senha(item[\"Senha\"])\n    return objeto",
      "execution_count": 12,
      "outputs": []
    },
    {
      "metadata": {},
      "cell_type": "markdown",
      "source": "<p>Chamar o menu do programa</p>"
    },
    {
      "metadata": {
        "trusted": true
      },
      "cell_type": "code",
      "source": "def main():\n    menu()",
      "execution_count": 13,
      "outputs": []
    },
    {
      "metadata": {
        "trusted": true
      },
      "cell_type": "code",
      "source": "if __name__ == \"__main__\":\n    main()",
      "execution_count": null,
      "outputs": [
        {
          "output_type": "stream",
          "name": "stdout",
          "text": "\n        PROJETO CARTÕES DE VISITA VIRTUAIS\n\n    1. Cadastro de um novo cartão de visita.\n    2. Editar cartão de visita existente\n    3. Visualizar cartão de visita existente.\n    4. Visualizar todos os cartões de visita.\n    5. Sair.\n\n    Digite a opção: >> 4\n\n\tNome: Acley\n\tEmail: acley@ucl.br\n\tTelefone: 987878878\n\tServico: Flanelinha\n\n\tNome: Rafael\n\tEmail: neoarcanjo@ucl.br\n\tTelefone: 996062044\n\tServico: Puto\n\n\tNome: Helder\n\tEmail: helder@ucl.br\n\tTelefone: 888888888\n\tServico: Estagiario\n\n\tNome: Bruno\n\tEmail: bruno@ucl.br\n\tTelefone: 777444111\n\tServico: Tudo\n\n\tNome: Willian\n\tEmail: willian@ucl.br\n\tTelefone: 222555888\n\tServico: Estagiario\n\n\tNome: Tamires\n\tEmail: tata@mozao.com\n\tTelefone: 22222222\n\tServico: Nenê\n\n\tNome: Erick\n\tEmail: heroi@familia.com\n\tTelefone: 8888888\n\tServico: Alegrar a vida ruim\n\n\tAperte ENTER para continuar >>\n\n        PROJETO CARTÕES DE VISITA VIRTUAIS\n\n    1. Cadastro de um novo cartão de visita.\n    2. Editar cartão de visita existente\n    3. Visualizar cartão de visita existente.\n    4. Visualizar todos os cartões de visita.\n    5. Sair.\n\n    Digite a opção: >> 2\n"
        }
      ]
    },
    {
      "metadata": {
        "trusted": true
      },
      "cell_type": "code",
      "source": "",
      "execution_count": null,
      "outputs": []
    }
  ],
  "metadata": {
    "kernelspec": {
      "name": "python36",
      "display_name": "Python 3.6",
      "language": "python"
    },
    "language_info": {
      "mimetype": "text/x-python",
      "nbconvert_exporter": "python",
      "name": "python",
      "pygments_lexer": "ipython3",
      "version": "3.6.6",
      "file_extension": ".py",
      "codemirror_mode": {
        "version": 3,
        "name": "ipython"
      }
    }
  },
  "nbformat": 4,
  "nbformat_minor": 2
}