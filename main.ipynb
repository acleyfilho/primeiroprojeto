{
  "cells": [
    {
      "metadata": {
        "trusted": true
      },
      "cell_type": "code",
      "source": "#encoding: utf-8\n\nimport csv\nfrom Usuarios import Pessoa\n\ndef msg(num):\n\tmsgs = {1: '''\n\t\tPROJETO CARTÕES DE VISITA VIRTUAIS\n\t\t\t\t\t    \n\t1. Cadastro de um novo cartão de visita.\n\t2. Editar cartão de visita existente\n\t3. Visualizar cartão de visita existente.\n\t4. Visualizar todos os cartões de visita.\n\t5. Sair.\n\t\n\tDigite a opção: >> ''',\n\t2: '''\n\tDigite o \"NÚMERO\" do campo que deseja modificar:\n\n\t1. Nome\n\t2. eMail\n\t3. Telefone\n\t4. Serviço\n\t5. Senha\n\n\t\t\t\t\t    \n\tDigite sua opção: >> ''',\n        3: '''\n\tDigite o número da opção que deseja :\n\n\t1. Visualizar cartão de visita por nome.\n\t2. Visualizar cartão de visita por eMail.\n\t3. Visualizar cartão de visita por telefone.    \n\t4. Visualizar cartão de visita por serviço.\n\t5. Visualizar cartão de visita por senha.\n    \n\tDigite sua opção: >> ''',\n\t\t}\n        \n\treturn msgs[num]",
      "execution_count": 1,
      "outputs": [
        {
          "output_type": "error",
          "ename": "TabError",
          "evalue": "inconsistent use of tabs and spaces in indentation (Usuarios.py, line 6)",
          "traceback": [
            "Traceback \u001b[0;36m(most recent call last)\u001b[0m:\n",
            "  File \u001b[1;32m\"/home/nbuser/anaconda3_501/lib/python3.6/site-packages/IPython/core/interactiveshell.py\"\u001b[0m, line \u001b[1;32m3267\u001b[0m, in \u001b[1;35mrun_code\u001b[0m\n    exec(code_obj, self.user_global_ns, self.user_ns)\n",
            "\u001b[0;36m  File \u001b[0;32m\"<ipython-input-1-25e3e3223afd>\"\u001b[0;36m, line \u001b[0;32m4\u001b[0;36m, in \u001b[0;35m<module>\u001b[0;36m\u001b[0m\n\u001b[0;31m    from Usuarios import Pessoa\u001b[0m\n",
            "\u001b[0;36m  File \u001b[0;32m\"/home/nbuser/library/Usuarios.py\"\u001b[0;36m, line \u001b[0;32m6\u001b[0m\n\u001b[0;31m    self.servico = \"\"\u001b[0m\n\u001b[0m                     ^\u001b[0m\n\u001b[0;31mTabError\u001b[0m\u001b[0;31m:\u001b[0m inconsistent use of tabs and spaces in indentation\n"
          ]
        }
      ]
    },
    {
      "metadata": {
        "trusted": true
      },
      "cell_type": "code",
      "source": "def cadastrar(Objeto, ID = False):\n\tnome = input('\\n\\tNome: ')\n\tif not nome:\n\t\tprint(\"\\n\\tVoltando ao menu anterior\")\n\t\tmenu()\n\tcadastro = Objeto(nome)\t\n\tcadastro.email = input('\\temail: ')\n\tcadastro.telefone = input('\\tTelefone: ')\n\tcadastro.servico = input('\\tServiço: ')\n\tif not ID:\n\t\tcadastro._Pessoa__senha = input('\\tID: ')\n\telse:\n\t\tcadastro._Pessoa__senha = ID\n\t\t#criar teste que invalide senha ja existente\n\n\treturn cadastro",
      "execution_count": 2,
      "outputs": []
    },
    {
      "metadata": {
        "trusted": true
      },
      "cell_type": "code",
      "source": "def load_data(caminho, mode = \"r\"):\n\twith open(caminho, mode) as file:\n\t\tler = csv.reader(file)\n\t\tpos = 0\n\t\toutput = []\n\t\tfor row in ler:\n\t\t\trows = {}\n\t\t\tif not pos:\n\t\t\t\thead = row\n\t\t\t\tpos += 1\n\t\t\telif pos >= 1:\n\t\t\t\tx = 0\n\t\t\t\tfor h in head:\n\t\t\t\t\tprint(h, head)\n\t\t\t\t\trows[h] = row[x]\n\t\t\t\t\tx += 1\n\t\t\tif rows:\n\t\t\t\toutput.append(rows)\n\treturn output",
      "execution_count": 3,
      "outputs": []
    },
    {
      "metadata": {
        "trusted": true
      },
      "cell_type": "code",
      "source": "def save_data(arquivo, local, colunas):\n\twith open(local, \"w+\") as file:\n\t\trecord = csv.DictWriter(file, fieldnames=colunas)\n\t\trecord.writeheader()\n\t\tfor x in arquivo:\n\t\t\trecord.writerow(x)\n\tprint(\"\\n\\tSalvo\")",
      "execution_count": 4,
      "outputs": []
    },
    {
      "metadata": {
        "trusted": true
      },
      "cell_type": "code",
      "source": "def menu():\n\tflag = True\n\tusuarios = load_data(\"teste2.csv\", \"r+\")\n\n\twhile flag:\n\t\topcao = input(msg(1))\n\t\tif opcao == '1':\n\t\t\tusuario = cadastrar(Pessoa)._atributos()\n\t\t\tusuarios.append(usuario)\n\t\t\thead = list(usuarios[0].keys())\n\t\t\tsave_data(usuarios, \"teste2.csv\", head)\n\t\telif opcao == '2':\n\t\t\teditar(usuarios, Pessoa, \"teste2.csv\")\n\t\telif opcao == '3':\n\t\t\tconsultar(usuarios)\n\t\telif opcao == '4':\n\t\t\tfor usuario in usuarios:\n\t\t\t\tprint()            \n\t\t\t\tfor x, y in usuario.items():\n\t\t\t\t\tprint(f\"\\t{x}: {y}\")   \n\t\telif opcao == '5':\n\t\t\tprint(\"\\n\\tPrograma encerrado com sucesso!!\")\n\t\t\tflag = False\n\t\telse:\n\t\t\tprint(\"\\n\\tOpcao invalida, tente novamente: \")\n\t\t\tmenu()\n\t\t\n\t\tpausa = input(\"\\n\\tAperte ENTER para continuar >>\")",
      "execution_count": 5,
      "outputs": []
    },
    {
      "metadata": {
        "trusted": true
      },
      "cell_type": "code",
      "source": "def consultar(cadastro):\n\topcao = input(msg(3))\n\thead = list(cadastro[0].keys())[:-1]\n\tfound = False\n\tfiltro = {\"1\": \"Nome\", \"2\": \"Email\", \"3\": \"Telefone\", \"4\" : \"Servico\", \"5\": \"Senha\"}\n\tif opcao == \"6\":\n\t\tmenu()\n\telif opcao in \"12345\":\n\t \tver = input('\\n\\tDigite sua busca: ')\n\t \tprint()\n\t \tfor x in range(len(cadastro)):\n\t \t\tif ver in cadastro[x][filtro[opcao]]:\n\t \t\t\tfor y in head:\n\t \t\t\t\tfound = True\n\t \t\t\t\tprint(f'\\t{y}: {cadastro[x][y]}')\n\t \tif not found:\n\t \t\tprint(\"\\tNão encontrada nenhuma entrada correspondente!\")\t\n\telse:\n\t\tprint(\"\\n\\tDigite opção válida: \")\n\t\tconsultar(cadastro)",
      "execution_count": 6,
      "outputs": []
    },
    {
      "metadata": {
        "trusted": true
      },
      "cell_type": "code",
      "source": "def editar(cadastro, tipo, tabela):\n\thead = list(cadastro[0].keys())\n\tID = input(\"\\n\\tDigite a ID do cadastro que deseja editar: >> \")\n\tfound = False\n\tfor x in range(len(cadastro)):\n \t\tif ID in cadastro[x]['Senha']:\n \t\t\tfound = True\n \t\t\tobjeto = editor(cadastro[x], tipo)\n \t\t\topcao = input(msg(2))\n \t\t\tif opcao == \"0\":\n \t\t\t\tfor w, z in objeto._atributos().items():\n \t\t\t\t\tif w == \"Senha\":\n \t\t\t\t\t\tcontinue\n \t\t\t\t\tprint(f\"\\t{w} : {z}\")\n \t\t\t\topcao = input(\"\\n\\tAguardando operação: >> \")\n \t\t\tif opcao == \"1\":\n \t\t\t\tobjeto.nome = input(\"\\tDigite novo nome: >> \")\n \t\t\telif opcao == \"2\":\n \t\t\t\tobjeto.email = input(\"\\tDigite nova email: >> \")\n \t\t\telif opcao == \"3\":\n \t\t\t\tobjeto.telefone = input(\"\\tDigite novo telefone: >> \")\n \t\t\telif opcao == \"4\":\n \t\t\t\tobjeto.servico = input(\"\\tDigite novo serviço: >> \")\n \t\t\telif opcao == \"5\":\n \t\t\t\tobjeto._Pessoa__senha = input(\"\\tDigite nova senha: >> \")\n \t\t\telif opcao == \"6\":\n \t\t\t\tobjeto = cadastrar(tipo, ID)\n \t\t\telif opcao == \"7\":\n \t\t\t\tprint(\"\\tCancelado!\\nVoltando ao Menu Principal...\")\n \t\t\t\tmenu()\n \t\t\telse:\n \t\t\t\tprint(\"\\tOpção invalida, voltando ao menu principal!\\n\")\n \t\t\t\t\n \t\t\tcadastro[x] = objeto._atributos()\n \t\t\tsave_data(cadastro, tabela, head)\n\tif not found:\n\t\tprint(\"\\tNão encontrada nenhuma entrada correspondente!\")",
      "execution_count": 7,
      "outputs": []
    },
    {
      "metadata": {
        "trusted": true
      },
      "cell_type": "code",
      "source": "def editor(item, tipo):\n\tobjeto = tipo(item['Nome'])\n\tobjeto.email(item[\"Email\"])\n\tobjeto.telefone(item[\"Telefone\"])\n\tobjeto.servico(item[\"Servico\"])    \n\tobjeto._Pessoa__senha(item[\"Senha\"])\n\treturn objeto",
      "execution_count": 8,
      "outputs": []
    },
    {
      "metadata": {
        "trusted": true
      },
      "cell_type": "code",
      "source": "def main():\n    menu()",
      "execution_count": 9,
      "outputs": []
    },
    {
      "metadata": {
        "trusted": true
      },
      "cell_type": "code",
      "source": "if __name__ == \"__main__\":\n    main()",
      "execution_count": 10,
      "outputs": [
        {
          "output_type": "stream",
          "text": "Nome ['Nome', 'Email', 'Telefone', 'Servico', 'Senha']\nEmail ['Nome', 'Email', 'Telefone', 'Servico', 'Senha']\nTelefone ['Nome', 'Email', 'Telefone', 'Servico', 'Senha']\nServico ['Nome', 'Email', 'Telefone', 'Servico', 'Senha']\nSenha ['Nome', 'Email', 'Telefone', 'Servico', 'Senha']\n",
          "name": "stdout"
        },
        {
          "output_type": "error",
          "ename": "IndexError",
          "evalue": "list index out of range",
          "traceback": [
            "\u001b[0;31m---------------------------------------------------------------------------\u001b[0m",
            "\u001b[0;31mIndexError\u001b[0m                                Traceback (most recent call last)",
            "\u001b[0;32m<ipython-input-10-972361fa1b80>\u001b[0m in \u001b[0;36m<module>\u001b[0;34m\u001b[0m\n\u001b[1;32m      1\u001b[0m \u001b[0;32mif\u001b[0m \u001b[0m__name__\u001b[0m \u001b[0;34m==\u001b[0m \u001b[0;34m\"__main__\"\u001b[0m\u001b[0;34m:\u001b[0m\u001b[0;34m\u001b[0m\u001b[0m\n\u001b[0;32m----> 2\u001b[0;31m     \u001b[0mmain\u001b[0m\u001b[0;34m(\u001b[0m\u001b[0;34m)\u001b[0m\u001b[0;34m\u001b[0m\u001b[0m\n\u001b[0m",
            "\u001b[0;32m<ipython-input-9-603792b13422>\u001b[0m in \u001b[0;36mmain\u001b[0;34m()\u001b[0m\n\u001b[1;32m      1\u001b[0m \u001b[0;32mdef\u001b[0m \u001b[0mmain\u001b[0m\u001b[0;34m(\u001b[0m\u001b[0;34m)\u001b[0m\u001b[0;34m:\u001b[0m\u001b[0;34m\u001b[0m\u001b[0m\n\u001b[0;32m----> 2\u001b[0;31m     \u001b[0mmenu\u001b[0m\u001b[0;34m(\u001b[0m\u001b[0;34m)\u001b[0m\u001b[0;34m\u001b[0m\u001b[0m\n\u001b[0m",
            "\u001b[0;32m<ipython-input-5-45be8fe78deb>\u001b[0m in \u001b[0;36mmenu\u001b[0;34m()\u001b[0m\n\u001b[1;32m      1\u001b[0m \u001b[0;32mdef\u001b[0m \u001b[0mmenu\u001b[0m\u001b[0;34m(\u001b[0m\u001b[0;34m)\u001b[0m\u001b[0;34m:\u001b[0m\u001b[0;34m\u001b[0m\u001b[0m\n\u001b[1;32m      2\u001b[0m         \u001b[0mflag\u001b[0m \u001b[0;34m=\u001b[0m \u001b[0;32mTrue\u001b[0m\u001b[0;34m\u001b[0m\u001b[0m\n\u001b[0;32m----> 3\u001b[0;31m         \u001b[0musuarios\u001b[0m \u001b[0;34m=\u001b[0m \u001b[0mload_data\u001b[0m\u001b[0;34m(\u001b[0m\u001b[0;34m\"teste2.csv\"\u001b[0m\u001b[0;34m,\u001b[0m \u001b[0;34m\"r+\"\u001b[0m\u001b[0;34m)\u001b[0m\u001b[0;34m\u001b[0m\u001b[0m\n\u001b[0m\u001b[1;32m      4\u001b[0m \u001b[0;34m\u001b[0m\u001b[0m\n\u001b[1;32m      5\u001b[0m         \u001b[0;32mwhile\u001b[0m \u001b[0mflag\u001b[0m\u001b[0;34m:\u001b[0m\u001b[0;34m\u001b[0m\u001b[0m\n",
            "\u001b[0;32m<ipython-input-3-1a507c6d0164>\u001b[0m in \u001b[0;36mload_data\u001b[0;34m(caminho, mode)\u001b[0m\n\u001b[1;32m     13\u001b[0m                                 \u001b[0;32mfor\u001b[0m \u001b[0mh\u001b[0m \u001b[0;32min\u001b[0m \u001b[0mhead\u001b[0m\u001b[0;34m:\u001b[0m\u001b[0;34m\u001b[0m\u001b[0m\n\u001b[1;32m     14\u001b[0m                                         \u001b[0mprint\u001b[0m\u001b[0;34m(\u001b[0m\u001b[0mh\u001b[0m\u001b[0;34m,\u001b[0m \u001b[0mhead\u001b[0m\u001b[0;34m)\u001b[0m\u001b[0;34m\u001b[0m\u001b[0m\n\u001b[0;32m---> 15\u001b[0;31m                                         \u001b[0mrows\u001b[0m\u001b[0;34m[\u001b[0m\u001b[0mh\u001b[0m\u001b[0;34m]\u001b[0m \u001b[0;34m=\u001b[0m \u001b[0mrow\u001b[0m\u001b[0;34m[\u001b[0m\u001b[0mx\u001b[0m\u001b[0;34m]\u001b[0m\u001b[0;34m\u001b[0m\u001b[0m\n\u001b[0m\u001b[1;32m     16\u001b[0m                                         \u001b[0mx\u001b[0m \u001b[0;34m+=\u001b[0m \u001b[0;36m1\u001b[0m\u001b[0;34m\u001b[0m\u001b[0m\n\u001b[1;32m     17\u001b[0m                         \u001b[0;32mif\u001b[0m \u001b[0mrows\u001b[0m\u001b[0;34m:\u001b[0m\u001b[0;34m\u001b[0m\u001b[0m\n",
            "\u001b[0;31mIndexError\u001b[0m: list index out of range"
          ]
        }
      ]
    },
    {
      "metadata": {
        "trusted": true
      },
      "cell_type": "code",
      "source": "",
      "execution_count": null,
      "outputs": []
    },
    {
      "metadata": {
        "trusted": true
      },
      "cell_type": "code",
      "source": "",
      "execution_count": null,
      "outputs": []
    }
  ],
  "metadata": {
    "kernelspec": {
      "name": "python36",
      "display_name": "Python 3.6",
      "language": "python"
    },
    "language_info": {
      "mimetype": "text/x-python",
      "nbconvert_exporter": "python",
      "name": "python",
      "pygments_lexer": "ipython3",
      "version": "3.6.6",
      "file_extension": ".py",
      "codemirror_mode": {
        "version": 3,
        "name": "ipython"
      }
    }
  },
  "nbformat": 4,
  "nbformat_minor": 2
}