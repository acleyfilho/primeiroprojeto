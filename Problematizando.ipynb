{
  "cells": [
    {
      "metadata": {
        "collapsed": true
      },
      "cell_type": "markdown",
      "source": "# Excesso de lixo com propagandas"
    },
    {
      "metadata": {},
      "cell_type": "markdown",
      "source": "    Empresas e pessoas jurídicas sempre usaram e ainda usam marketing por meio de forma impressa, como panfletos, cartões, placas, banners, etc, e estas formas sempre causaram problemas com a limpeza da cidade. A cada eleição, por exemplo, milhares de impressos são jogados nas ruas, tanto pelos políticos e seus aliados quanto pela população que o recebe e o descarta ali mesmo nas ruas.\n    O impacto aparenta ser pequeno porém ocorre com grande frequência e em larga escala a cada dia em nossas ruas. Os orgãos públicos tentam manter a cidade limpa, algumas pessoas até se sensibilizam com o problema e também fazem sua parte jogando esses materiais em locais adequados ou até o guardando para dispensar em casa, mas esses esforços não têm sido eficazes.\n\n    Vivemos em uma era onde a tecnologia cresce espantosamente e precisamos usá-la a nosso favor para mudar essa problemática mesmo nas situações mais simples de nosso cotidiano."
    },
    {
      "metadata": {},
      "cell_type": "markdown",
      "source": ""
    }
  ],
  "metadata": {
    "kernelspec": {
      "name": "python36",
      "display_name": "Python 3.6",
      "language": "python"
    },
    "language_info": {
      "mimetype": "text/x-python",
      "nbconvert_exporter": "python",
      "name": "python",
      "pygments_lexer": "ipython3",
      "version": "3.6.6",
      "file_extension": ".py",
      "codemirror_mode": {
        "version": 3,
        "name": "ipython"
      }
    }
  },
  "nbformat": 4,
  "nbformat_minor": 2
}